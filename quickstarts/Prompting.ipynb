{
  "cells": [
    {
      "cell_type": "markdown",
      "metadata": {
        "id": "view-in-github",
        "colab_type": "text"
      },
      "source": [
        "<a href=\"https://colab.research.google.com/github/goyalvansh4/Mern-Stack/blob/master/quickstarts/Prompting.ipynb\" target=\"_parent\"><img src=\"https://colab.research.google.com/assets/colab-badge.svg\" alt=\"Open In Colab\"/></a>"
      ]
    },
    {
      "cell_type": "code",
      "source": [
        "# Import required libraries\n",
        "from fastapi import FastAPI\n",
        "from TTS.api import TTS\n",
        "from pyngrok import ngrok\n",
        "import torch\n",
        "import os\n",
        "\n",
        "# Initialize FastAPI app\n",
        "app = FastAPI()\n",
        "\n",
        "# Load the model with GPU if available\n",
        "tts = TTS(\"tts_models/multilingual/multi-dataset/xtts_v2\", gpu=torch.cuda.is_available())\n",
        "\n",
        "# Supported languages\n",
        "supported_languages = [\n",
        "    \"en\", \"es\", \"fr\", \"de\", \"it\", \"pt\", \"pl\", \"tr\", \"ru\",\n",
        "    \"nl\", \"cs\", \"ar\", \"zh-cn\", \"hu\", \"ko\", \"ja\", \"hi\"\n",
        "]\n",
        "\n",
        "# Speaker audio files (Ensure these are uploaded to Google Colab under 'speakers/' folder)\n",
        "speaker_wav_files = {\n",
        "    \"en\": \"speakers/en.wav\",\n",
        "    \"hi\": \"speakers/hi.wav\",\n",
        "    \"es\": \"speakers/es.wav\",\n",
        "    \"fr\": \"speakers/fr.wav\",\n",
        "    \"de\": \"speakers/de.wav\",\n",
        "    \"it\": \"speakers/it.wav\"\n",
        "    # Add more if available\n",
        "}\n",
        "\n",
        "# API Route: Generate Voice\n",
        "@app.get(\"/generate-voice/\")\n",
        "async def generate_voice(text: str, language: str = \"en\", speaker: str = None):\n",
        "    if language not in supported_languages:\n",
        "        return {\"error\": f\"Language '{language}' is not supported. Choose from {supported_languages}\"}\n",
        "\n",
        "    output_path = f\"generated_audio/{language}.wav\"\n",
        "    os.makedirs(\"generated_audio\", exist_ok=True)\n",
        "\n",
        "    try:\n",
        "        speaker_wav = speaker_wav_files.get(language) if speaker is None else speaker\n",
        "\n",
        "        if not os.path.exists(speaker_wav):\n",
        "            return {\"error\": f\"Speaker WAV file not found: {speaker_wav}\"}\n",
        "\n",
        "        tts.tts_to_file(\n",
        "            text=text,\n",
        "            language=language,\n",
        "            speaker_wav=speaker_wav,\n",
        "            file_path=output_path,\n",
        "            speed=1.2  # Adjust speed if needed\n",
        "        )\n",
        "        return {\"message\": \"Generated Voice File\", \"file_path\": output_path}\n",
        "    except Exception as e:\n",
        "        return {\"error\": str(e)}\n",
        "\n",
        "# Start FastAPI server with ngrok\n",
        "public_url = ngrok.connect(8000)\n",
        "print(f\"Public URL: {public_url}\")\n",
        "\n",
        "# Run Uvicorn\n",
        "import uvicorn\n",
        "uvicorn.run(app, host=\"0.0.0.0\", port=8000)"
      ],
      "metadata": {
        "id": "AzJzfn9TqEDw"
      },
      "execution_count": null,
      "outputs": []
    }
  ],
  "metadata": {
    "colab": {
      "name": "Prompting.ipynb",
      "provenance": [],
      "gpuType": "T4",
      "include_colab_link": true
    },
    "google": {
      "image_path": "/static/site-assets/images/docs/logo-python.svg",
      "keywords": [
        "examples",
        "gemini",
        "beginner",
        "googleai",
        "quickstart",
        "python",
        "text",
        "chat",
        "vision",
        "embed"
      ]
    },
    "kernelspec": {
      "display_name": "Python 3",
      "name": "python3"
    },
    "accelerator": "GPU"
  },
  "nbformat": 4,
  "nbformat_minor": 0
}